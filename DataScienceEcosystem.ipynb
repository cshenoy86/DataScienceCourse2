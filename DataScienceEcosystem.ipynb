{
 "cells": [
  {
   "cell_type": "markdown",
   "id": "6e6a1529-c04e-4de6-b7a6-d66b612e46b2",
   "metadata": {},
   "source": [
    "# Data Science Tools and Ecosystem"
   ]
  },
  {
   "cell_type": "markdown",
   "id": "bec88821-16d9-42ba-a261-be4784f82592",
   "metadata": {},
   "source": [
    "#### In this notebook, Data Science Tools and Ecosystem are summarized."
   ]
  },
  {
   "cell_type": "markdown",
   "id": "83fc06ab-fc04-4eb7-ae7a-bbc4849577af",
   "metadata": {},
   "source": [
    "##### Objectives:\n",
    "- List popular languages in Data Science\n",
    "- List commonly used libraries in Data Science\n",
    "- List Data Science Tools\n",
    "- List code for some common arithmetic expressions"
   ]
  },
  {
   "cell_type": "markdown",
   "id": "5afc5815-a916-406a-802a-8979f7be832f",
   "metadata": {},
   "source": [
    "## Author\n",
    "##### Chandrika Shenoy"
   ]
  },
  {
   "cell_type": "markdown",
   "id": "b53d9da1-09f7-4e04-97f1-d92f6e765957",
   "metadata": {},
   "source": [
    "##### Some of the popular languages that Data Scientists use are:\n",
    "- Python\n",
    "- R\n",
    "- Scala\n"
   ]
  },
  {
   "cell_type": "markdown",
   "id": "59653ae3-405f-4783-8f09-b7ef1830e8f9",
   "metadata": {},
   "source": [
    "##### Some of the commonly used libraries used by Data Scientists include:\n",
    "- pandas\n",
    "- numpy\n",
    "- matplotlib"
   ]
  },
  {
   "cell_type": "markdown",
   "id": "8b98cede-79b0-4c4d-8f95-a43c99419749",
   "metadata": {},
   "source": [
    "| Data Science Tools |\n",
    "|:--------:|\n",
    "|  Apache Spark   |  \n",
    "|  Tensor Flow   |  \n",
    "|  Scikit-learn  |  \n",
    "\n"
   ]
  },
  {
   "cell_type": "markdown",
   "id": "6d4c300a-ea53-4bf2-96ec-36e753301106",
   "metadata": {},
   "source": [
    "### Below are a few examples of evaluating arithmetic expressions in Python"
   ]
  },
  {
   "cell_type": "code",
   "execution_count": 4,
   "id": "a39d5f64-a7bf-4c71-b489-fee300ad2aa6",
   "metadata": {
    "tags": []
   },
   "outputs": [],
   "source": [
    "# This a simple arithmetic expression to mutiply then add integers"
   ]
  },
  {
   "cell_type": "code",
   "execution_count": 5,
   "id": "9c3b7790-48b4-49f9-ada0-c6b0b64ee4d7",
   "metadata": {
    "tags": []
   },
   "outputs": [
    {
     "data": {
      "text/plain": [
       "17"
      ]
     },
     "execution_count": 5,
     "metadata": {},
     "output_type": "execute_result"
    }
   ],
   "source": [
    "(3*4)+5\n"
   ]
  },
  {
   "cell_type": "code",
   "execution_count": 7,
   "id": "8439c80f-c002-4358-a187-87d02c74b127",
   "metadata": {
    "tags": []
   },
   "outputs": [],
   "source": [
    "# This will convert 200 minutes to hours by dividing by 60"
   ]
  },
  {
   "cell_type": "code",
   "execution_count": 8,
   "id": "cc2e5937-81fa-4eb5-9d93-5ea1f651f9ac",
   "metadata": {
    "tags": []
   },
   "outputs": [
    {
     "name": "stdout",
     "output_type": "stream",
     "text": [
      "3.3333333333333335\n"
     ]
    }
   ],
   "source": [
    "m = 200\n",
    "h = 200/60\n",
    "print(h)"
   ]
  },
  {
   "cell_type": "markdown",
   "id": "1a6dc476-8fb1-4786-9e14-973dedb4c269",
   "metadata": {},
   "source": []
  }
 ],
 "metadata": {
  "kernelspec": {
   "display_name": "Python",
   "language": "python",
   "name": "conda-env-python-py"
  },
  "language_info": {
   "codemirror_mode": {
    "name": "ipython",
    "version": 3
   },
   "file_extension": ".py",
   "mimetype": "text/x-python",
   "name": "python",
   "nbconvert_exporter": "python",
   "pygments_lexer": "ipython3",
   "version": "3.7.12"
  }
 },
 "nbformat": 4,
 "nbformat_minor": 5
}
